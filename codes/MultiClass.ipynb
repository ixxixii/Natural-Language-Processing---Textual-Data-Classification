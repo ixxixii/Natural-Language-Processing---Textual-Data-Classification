{
 "cells": [
  {
   "cell_type": "markdown",
   "metadata": {},
   "source": [
    "# Perform Classification"
   ]
  },
  {
   "cell_type": "code",
   "execution_count": 1,
   "metadata": {
    "collapsed": false
   },
   "outputs": [
    {
     "name": "stdout",
     "output_type": "stream",
     "text": [
      "Populating the interactive namespace from numpy and matplotlib\n"
     ]
    }
   ],
   "source": [
    "import numpy as np\n",
    "%pylab inline\n",
    "X_train_LSI = np.load('./data/X_train_LSI.npy')\n",
    "X_test_LSI =np.load('./data/X_test_LSI.npy')\n",
    "y_train_LSI = np.load('./data/y_train_LSI.npy')\n",
    "y_test_LSI = np.load('./data/y_test_LSI.npy')"
   ]
  },
  {
   "cell_type": "code",
   "execution_count": 3,
   "metadata": {
    "collapsed": false
   },
   "outputs": [
    {
     "name": "stdout",
     "output_type": "stream",
     "text": [
      "(7836, 50)\n"
     ]
    }
   ],
   "source": [
    "X_all = np.concatenate((X_train_LSI, X_test_LSI), axis=0)\n",
    "print X_all.shape"
   ]
  },
  {
   "cell_type": "code",
   "execution_count": 9,
   "metadata": {
    "collapsed": false
   },
   "outputs": [
    {
     "data": {
      "text/plain": [
       "array([0, 0, 0, ..., 1, 1, 1])"
      ]
     },
     "execution_count": 9,
     "metadata": {},
     "output_type": "execute_result"
    }
   ],
   "source": [
    "y_test_LSI"
   ]
  },
  {
   "cell_type": "code",
   "execution_count": 11,
   "metadata": {
    "collapsed": false
   },
   "outputs": [
    {
     "name": "stdout",
     "output_type": "stream",
     "text": [
      "[0 0 0 ..., 1 1 1]\n"
     ]
    }
   ],
   "source": [
    "y_all = np.concatenate((y_train_LSI, y_test_LSI), axis=0)"
   ]
  },
  {
   "cell_type": "code",
   "execution_count": 2,
   "metadata": {
    "collapsed": false
   },
   "outputs": [
    {
     "name": "stdout",
     "output_type": "stream",
     "text": [
      "accuracy:  0.974603174603\n"
     ]
    }
   ],
   "source": [
    "from sklearn.svm import LinearSVC\n",
    "svm_model = LinearSVC()\n",
    "svm_model.fit(X_train_LSI,y_train_LSI)\n",
    "y_test_predicted = svm_model.predict(X_test_LSI)\n",
    "y_score = svm_model.decision_function(X_test_LSI)\n",
    "print 'accuracy: ', 1.0*sum(y_test_LSI==y_test_predicted) / len(y_test_LSI)"
   ]
  },
  {
   "cell_type": "code",
   "execution_count": 9,
   "metadata": {
    "collapsed": false
   },
   "outputs": [
    {
     "name": "stdout",
     "output_type": "stream",
     "text": [
      "(3150,)\n",
      "(3150, 2)\n"
     ]
    }
   ],
   "source": [
    "# print y_test_LSI.shape\n",
    "# def makeDecisionArray(y):\n",
    "#     y_test = np.array([[0 for i in range(2)] for j in range(len(y_test_LSI))])\n",
    "#     for i in range(len(y_test_LSI)):\n",
    "#         y_test[i][y_test_LSI[i]]=1\n",
    "#     return y_test\n",
    "# y_test = makeDecisionArray(y_test_LSI)\n",
    "# print y_test.shape"
   ]
  },
  {
   "cell_type": "code",
   "execution_count": 3,
   "metadata": {
    "collapsed": false
   },
   "outputs": [
    {
     "data": {
      "text/plain": [
       "(3150,)"
      ]
     },
     "execution_count": 3,
     "metadata": {},
     "output_type": "execute_result"
    }
   ],
   "source": [
    "y_score.shape"
   ]
  },
  {
   "cell_type": "code",
   "execution_count": 3,
   "metadata": {
    "collapsed": false
   },
   "outputs": [
    {
     "data": {
      "image/png": "[encoded data removed]",
      "text/plain": [
       "<matplotlib.figure.Figure at 0x105c08bd0>"
      ]
     },
     "metadata": {},
     "output_type": "display_data"
    }
   ],
   "source": [
    "import numpy as np\n",
    "import matplotlib.pyplot as plt\n",
    "from sklearn import svm, datasets\n",
    "from sklearn.metrics import roc_curve, auc\n",
    "from sklearn.cross_validation import train_test_split\n",
    "from sklearn.preprocessing import label_binarize\n",
    "from sklearn.multiclass import OneVsRestClassifier\n",
    "from scipy import interp\n",
    "# Compute ROC curve and ROC area for each class\n",
    "fpr = dict()\n",
    "tpr = dict()\n",
    "roc_auc = dict()\n",
    "fpr[0], tpr[0], _ = roc_curve(y_test_LSI, y_score)\n",
    "roc_auc[0] = auc(fpr[0], tpr[0])\n",
    "\n",
    "# Compute micro-average ROC curve and ROC area\n",
    "fpr[\"micro\"], tpr[\"micro\"], _ = roc_curve(y_test_LSI.ravel(), y_score.ravel())\n",
    "roc_auc[\"micro\"] = auc(fpr[\"micro\"], tpr[\"micro\"])\n",
    "\n",
    "\n",
    "##############################################################################\n",
    "# Plot of a ROC curve for a specific class\n",
    "plt.figure()\n",
    "plt.plot(fpr[0], tpr[0], label='ROC curve (area = %0.2f)' % roc_auc[0])\n",
    "plt.plot([0, 1], [0, 1], 'k--')\n",
    "plt.xlim([0.0, 1.0])\n",
    "plt.ylim([0.0, 1.05])\n",
    "plt.xlabel('False Positive Rate')\n",
    "plt.ylabel('True Positive Rate')\n",
    "plt.title('Receiver operating characteristic example')\n",
    "plt.legend(loc=\"lower right\")\n",
    "plt.show()"
   ]
  },
  {
   "cell_type": "code",
   "execution_count": null,
   "metadata": {
    "collapsed": true
   },
   "outputs": [],
   "source": []
  },
  {
   "cell_type": "markdown",
   "metadata": {},
   "source": [
    "# Featch data and select features for multi-class classification"
   ]
  },
  {
   "cell_type": "code",
   "execution_count": 2,
   "metadata": {
    "collapsed": false
   },
   "outputs": [],
   "source": [
    "import numpy as np\n",
    "###save X and y for multi-class classification\n",
    "X_train_LSI_multi = np.load('./data/X_train_LSI_multi.npy')\n",
    "X_test_LSI_multi = np.load('./data/X_test_LSI_multi.npy')\n",
    "y_train_LSI_multi = np.load('./data/y_train_LSI_multi.npy')\n",
    "y_test_LSI_multi = np.load('./data/y_test_LSI_multi.npy')"
   ]
  },
  {
   "cell_type": "markdown",
   "metadata": {},
   "source": [
    "### Multi-Class SVM"
   ]
  },
  {
   "cell_type": "code",
   "execution_count": 3,
   "metadata": {
    "collapsed": false
   },
   "outputs": [
    {
     "name": "stdout",
     "output_type": "stream",
     "text": [
      "accuracy:  0.883706070288\n"
     ]
    }
   ],
   "source": [
    "from sklearn.multiclass import OneVsOneClassifier\n",
    "from sklearn.multiclass import OneVsRestClassifier\n",
    "from sklearn.svm import LinearSVC\n",
    "#y_pred = OneVsOneClassifier(LinearSVC(random_state=0)).fit(X_train_LSI_multi, y_train_LSI_multi).predict(X_test_LSI_multi)\n",
    "y_pred = OneVsRestClassifier(LinearSVC(random_state=0)).fit(X_train_LSI_multi, y_train_LSI_multi).predict(X_test_LSI_multi)\n",
    "\n",
    "print 'accuracy: ', 1.0*sum(y_pred==y_test_LSI_multi) / y_test_LSI_multi.shape[0]"
   ]
  },
  {
   "cell_type": "markdown",
   "metadata": {},
   "source": [
    "### Naive Bayes"
   ]
  },
  {
   "cell_type": "code",
   "execution_count": 25,
   "metadata": {
    "collapsed": false
   },
   "outputs": [
    {
     "name": "stdout",
     "output_type": "stream",
     "text": [
      "accuracy:  0.670287539936\n"
     ]
    }
   ],
   "source": [
    "from sklearn.naive_bayes import GaussianNB\n",
    "gnb = GaussianNB()\n",
    "y_pred = gnb.fit(X_train_LSI_multi, y_train_LSI_multi).predict(X_test_LSI_multi)\n",
    "print 'accuracy: ', 1.0*sum(y_pred==y_test_LSI_multi) / y_test_LSI_multi.shape[0]"
   ]
  },
  {
   "cell_type": "code",
   "execution_count": 4,
   "metadata": {
    "collapsed": false
   },
   "outputs": [
    {
     "name": "stdout",
     "output_type": "stream",
     "text": [
      "[2 1 1 ..., 0 2 3]\n",
      "[2 1 1 ..., 1 2 3]\n"
     ]
    }
   ],
   "source": [
    "print y_pred\n",
    "print y_test_LSI_multi"
   ]
  },
  {
   "cell_type": "code",
   "execution_count": 11,
   "metadata": {
    "collapsed": false,
    "scrolled": true
   },
   "outputs": [
    {
     "name": "stdout",
     "output_type": "stream",
     "text": [
      "confusion matrix: \n",
      "[[316  50  26   0]\n",
      " [ 38 322  24   1]\n",
      " [ 20  14 355   1]\n",
      " [  6   1   1 390]]\n",
      "accuracy:  0.883706070288\n",
      "precision:  [ 0.83157895  0.83204134  0.87438424  0.99489796]\n",
      "recall:  [ 0.80612245  0.83636364  0.91025641  0.9798995 ]\n"
     ]
    }
   ],
   "source": [
    "from sklearn.metrics import precision_score\n",
    "from sklearn.metrics import recall_score\n",
    "from sklearn.metrics import confusion_matrix\n",
    "from sklearn.metrics import accuracy_score\n",
    "\n",
    "confusion = confusion_matrix(y_test_LSI_multi, y_pred)\n",
    "precision = precision_score(y_test_LSI_multi, y_pred, average=None)  \n",
    "recall = recall_score(y_test_LSI_multi, y_pred, average=None)\n",
    "#recall = recall_score(y_test_LSI_multi, y_pred, average=None)\n",
    "acc = accuracy_score(y_test_LSI_multi, y_pred)\n",
    "print \"confusion matrix: \"\n",
    "print confusion \n",
    "print \"accuracy: \",acc\n",
    "print \"precision: \",precision\n",
    "print \"recall: \",recall"
   ]
  }
 ],
 "metadata": {
  "kernelspec": {
   "display_name": "Python 2",
   "language": "python",
   "name": "python2"
  },
  "language_info": {
   "codemirror_mode": {
    "name": "ipython",
    "version": 2
   },
   "file_extension": ".py",
   "mimetype": "text/x-python",
   "name": "python",
   "nbconvert_exporter": "python",
   "pygments_lexer": "ipython2",
   "version": "2.7.10"
  }
 },
 "nbformat": 4,
 "nbformat_minor": 0
}
