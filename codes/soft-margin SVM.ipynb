{
 "cells": [
  {
   "cell_type": "code",
   "execution_count": null,
   "metadata": {
    "collapsed": true
   },
   "outputs": [],
   "source": [
    "###SOFT-MARGIN SVM"
   ]
  },
  {
   "cell_type": "code",
   "execution_count": 274,
   "metadata": {
    "collapsed": false
   },
   "outputs": [
    {
     "name": "stdout",
     "output_type": "stream",
     "text": [
      "Populating the interactive namespace from numpy and matplotlib\n"
     ]
    }
   ],
   "source": [
    "import numpy as np\n",
    "%pylab inline\n",
    "X_train_LSI = np.load('./data/X_train_LSI.npy')\n",
    "X_test_LSI =np.load('./data/X_test_LSI.npy')\n",
    "y_train_LSI = np.load('./data/y_train_LSI.npy')\n",
    "y_test_LSI = np.load('./data/y_test_LSI.npy')"
   ]
  },
  {
   "cell_type": "code",
   "execution_count": 275,
   "metadata": {
    "collapsed": false
   },
   "outputs": [
    {
     "name": "stdout",
     "output_type": "stream",
     "text": [
      "(7836, 50)\n",
      "(7836,)\n"
     ]
    }
   ],
   "source": [
    "X_all = np.concatenate((X_train_LSI,X_test_LSI),axis=0)\n",
    "print X_all.shape\n",
    "y_all = np.concatenate((y_train_LSI,y_test_LSI),axis=0)\n",
    "print y_all.shape"
   ]
  },
  {
   "cell_type": "code",
   "execution_count": 284,
   "metadata": {
    "collapsed": false
   },
   "outputs": [
    {
     "name": "stdout",
     "output_type": "stream",
     "text": [
      "accuracy:  0.975752935171\n",
      "[ 0.97688158  0.9746386 ]\n",
      "[ 0.97437868  0.9771167 ]\n"
     ]
    }
   ],
   "source": [
    "from sklearn.svm import LinearSVC\n",
    "from sklearn.cross_validation import cross_val_predict\n",
    "from sklearn.metrics import recall_score\n",
    "from sklearn.metrics import precision_score\n",
    "svm_model = LinearSVC(C=10)\n",
    "y_pred = cross_val_predict(svm_model,X_all,y_all,cv=5)\n",
    "print 'accuracy: ',1.0*sum(y_all==y_pred) / len(y_all)\n",
    "precision = precision_score(y_all,y_pred,average=None)\n",
    "recall = recall_score(y_all,y_pred,average=None)\n",
    "print precision\n",
    "print recall"
   ]
  },
  {
   "cell_type": "code",
   "execution_count": 285,
   "metadata": {
    "collapsed": false
   },
   "outputs": [
    {
     "data": {
      "text/plain": [
       "array([[3803,  100],\n",
       "       [  90, 3843]])"
      ]
     },
     "execution_count": 285,
     "metadata": {},
     "output_type": "execute_result"
    }
   ],
   "source": [
    "from sklearn.metrics import confusion_matrix\n",
    "confusion_matrix(y_all, y_pred)"
   ]
  },
  {
   "cell_type": "code",
   "execution_count": null,
   "metadata": {
    "collapsed": true
   },
   "outputs": [],
   "source": []
  }
 ],
 "metadata": {
  "kernelspec": {
   "display_name": "Python 2",
   "language": "python",
   "name": "python2"
  },
  "language_info": {
   "codemirror_mode": {
    "name": "ipython",
    "version": 2
   },
   "file_extension": ".py",
   "mimetype": "text/x-python",
   "name": "python",
   "nbconvert_exporter": "python",
   "pygments_lexer": "ipython2",
   "version": "2.7.11"
  }
 },
 "nbformat": 4,
 "nbformat_minor": 0
}
